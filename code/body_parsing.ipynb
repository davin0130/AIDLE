{
 "cells": [
  {
   "cell_type": "markdown",
   "metadata": {},
   "source": [
    "### The original type was:"
   ]
  },
  {
   "cell_type": "code",
   "execution_count": 1,
   "metadata": {},
   "outputs": [],
   "source": [
    "import os\n",
    "import pandas as pd\n",
    "\n",
    "import datetime\n",
    "import eml_parser"
   ]
  },
  {
   "cell_type": "code",
   "execution_count": 13,
   "metadata": {},
   "outputs": [],
   "source": [
    "### eml 파일의 content 부분 파싱\n",
    "# 해당 eml 파일의 header content-type 값에 따라 파싱한다.\n",
    "# header content-type 값이 multipart인 경우 boundary 값과 빈 행('\\n')을 이용해 파싱\n",
    "# header content-type 값이 multipart가 아닌 경우 빈 행('\\n')을 이용해 파싱\n",
    "def content_parsing(idx, file_path):\n",
    "    f = open(file_path, 'r', encoding='utf-8' )\n",
    "    contents = {}\n",
    "    iscontent = False\n",
    "    contents['content'] = ''\n",
    "    while True:\n",
    "        line = f.readline()\n",
    "        if not line:\n",
    "            break\n",
    "        if '\\n' == line:\n",
    "            iscontent = True\n",
    "        if iscontent == True:\n",
    "            contents['content'] += line\n",
    "                \n",
    "    return pd.DataFrame(data=contents, index=[idx])"
   ]
  },
  {
   "cell_type": "code",
   "execution_count": 16,
   "metadata": {},
   "outputs": [],
   "source": [
    "### 인자로 받은 디렉토리(folder)에 있는 파일들 중 선택된 파일들에 대해 파싱한 후 DataFrame으로 저장 ###\n",
    "def parsing(folder, hex_str):\n",
    "    file_list = os.listdir(folder)\n",
    "    \n",
    "    emls_df = pd.DataFrame()    \n",
    "    count = 0\n",
    "    \n",
    "    for i, file in enumerate(file_list):\n",
    "        # 원하는 파일이 아니면 제외(원하는 파일 선택)\n",
    "        # 생각보다 오래걸릴 수 있어서 file[0:2] == '01' 과 같이 더 나눠서 반복해서 실행시키는 것 추천\n",
    "        if not (file[0:1] == hex_str):  # 각자 시작하는 16진수 선택\n",
    "            continue\n",
    "        \n",
    "        if count%1000 == 0:     # 진행 상태 확인(100개 단위로 file 이름 print)\n",
    "            print('file name:', file)\n",
    "        count += 1\n",
    "        \n",
    "        ###\n",
    "        eml_df = pd.DataFrame(data={'file_name':file}, index=[i])\n",
    "        \n",
    "        #### content-parsing ####\n",
    "        file_path = os.path.join(folder, file)\n",
    "        eml_df = pd.concat([eml_df, content_parsing(i, file_path)], axis=1)\n",
    "            \n",
    "        # error가 발생해도 나머지 파일들에 대한 파싱값 저장하기 위해 try-except 사용\n",
    "        try:\n",
    "            emls_df = pd.concat([emls_df, eml_df])  \n",
    "        except Exception as e:\n",
    "            print('=== Exception:', e, '(during concat) ===')\n",
    "            print('error file name:', file)\n",
    "            \n",
    "    return emls_df"
   ]
  },
  {
   "cell_type": "code",
   "execution_count": 17,
   "metadata": {},
   "outputs": [
    {
     "name": "stdout",
     "output_type": "stream",
     "text": [
      "file name: f0005103-7cfe-4d92-a770-d19e0bf80e6b.eml\n",
      "file name: f05cc9e4-1ce6-4c52-b6b9-f85fd642bcc8.eml\n",
      "file name: f0b629c9-111b-448a-a963-f5d38d2dd762.eml\n"
     ]
    }
   ],
   "source": [
    "content_df_f = parsing('dataset/eml', 'f')"
   ]
  },
  {
   "cell_type": "code",
   "execution_count": 18,
   "metadata": {},
   "outputs": [
    {
     "data": {
      "text/html": [
       "<div>\n",
       "<style scoped>\n",
       "    .dataframe tbody tr th:only-of-type {\n",
       "        vertical-align: middle;\n",
       "    }\n",
       "\n",
       "    .dataframe tbody tr th {\n",
       "        vertical-align: top;\n",
       "    }\n",
       "\n",
       "    .dataframe thead th {\n",
       "        text-align: right;\n",
       "    }\n",
       "</style>\n",
       "<table border=\"1\" class=\"dataframe\">\n",
       "  <thead>\n",
       "    <tr style=\"text-align: right;\">\n",
       "      <th></th>\n",
       "      <th>file_name</th>\n",
       "      <th>content</th>\n",
       "    </tr>\n",
       "  </thead>\n",
       "  <tbody>\n",
       "    <tr>\n",
       "      <th>681573</th>\n",
       "      <td>f0005103-7cfe-4d92-a770-d19e0bf80e6b.eml</td>\n",
       "      <td>\\n\\n--__.5DA0A.8DE57EF.F4D4CD\\nContent-Type: t...</td>\n",
       "    </tr>\n",
       "    <tr>\n",
       "      <th>681574</th>\n",
       "      <td>f000979c-129d-44eb-81be-4f417fca9a53.eml</td>\n",
       "      <td>\\n\\n--_21B.6DA.6D\\nContent-Type: text/html;\\nC...</td>\n",
       "    </tr>\n",
       "    <tr>\n",
       "      <th>681575</th>\n",
       "      <td>f000b997-4b59-4479-98bc-36668955d8fb.eml</td>\n",
       "      <td>\\nDQqBmYGahLSEtIFjgWSBRYSqhLSBY4FkgWSBRYFFgUWB...</td>\n",
       "    </tr>\n",
       "    <tr>\n",
       "      <th>681576</th>\n",
       "      <td>f000cfcf-9f3b-4994-8939-9b78fa357271.eml</td>\n",
       "      <td>\\nPCFET0NUWVBFIGh0bWwgUFVCTElDICItLy9XM0MvL0RU...</td>\n",
       "    </tr>\n",
       "    <tr>\n",
       "      <th>681577</th>\n",
       "      <td>f000f66a-c144-42ba-a6c4-4116c0cab309.eml</td>\n",
       "      <td>\\n\\n--..DF_5CB14FF.EE42\\nContent-Type: text/ht...</td>\n",
       "    </tr>\n",
       "    <tr>\n",
       "      <th>...</th>\n",
       "      <td>...</td>\n",
       "      <td>...</td>\n",
       "    </tr>\n",
       "    <tr>\n",
       "      <th>684386</th>\n",
       "      <td>f0ffcea1-e080-4d39-80f1-ba6aa8b624d4.eml</td>\n",
       "      <td>\\n\\n--67_ED3FFA4EC0_FF.19C4BA_\\nContent-Type: ...</td>\n",
       "    </tr>\n",
       "    <tr>\n",
       "      <th>684387</th>\n",
       "      <td>f0ffd3c9-bc39-4948-b9bf-d33575bbd91a.eml</td>\n",
       "      <td>\\nPCFET0NUWVBFIGh0bWwgUFVCTElDICItLy9XM0MvL0RU...</td>\n",
       "    </tr>\n",
       "    <tr>\n",
       "      <th>684388</th>\n",
       "      <td>f0ffdffe-ed6e-427c-a712-9b5d1815a557.eml</td>\n",
       "      <td>\\n\\n--7CB2_0.3_.FCE\\nContent-Type: text/html;\\...</td>\n",
       "    </tr>\n",
       "    <tr>\n",
       "      <th>684389</th>\n",
       "      <td>f0fff19f-e38d-4523-ba04-c5c53fb24016.eml</td>\n",
       "      <td>\\nPCFET0NUWVBFIGh0bWwgUFVCTElDICItLy9XM0MvL0RU...</td>\n",
       "    </tr>\n",
       "    <tr>\n",
       "      <th>684390</th>\n",
       "      <td>f0fff369-db2b-4a42-bd62-cdc1e05f72df.eml</td>\n",
       "      <td>\\n\\n--D2E19CA.F4E54C11B9\\nContent-Type: text/h...</td>\n",
       "    </tr>\n",
       "  </tbody>\n",
       "</table>\n",
       "<p>2818 rows × 2 columns</p>\n",
       "</div>"
      ],
      "text/plain": [
       "                                       file_name  \\\n",
       "681573  f0005103-7cfe-4d92-a770-d19e0bf80e6b.eml   \n",
       "681574  f000979c-129d-44eb-81be-4f417fca9a53.eml   \n",
       "681575  f000b997-4b59-4479-98bc-36668955d8fb.eml   \n",
       "681576  f000cfcf-9f3b-4994-8939-9b78fa357271.eml   \n",
       "681577  f000f66a-c144-42ba-a6c4-4116c0cab309.eml   \n",
       "...                                          ...   \n",
       "684386  f0ffcea1-e080-4d39-80f1-ba6aa8b624d4.eml   \n",
       "684387  f0ffd3c9-bc39-4948-b9bf-d33575bbd91a.eml   \n",
       "684388  f0ffdffe-ed6e-427c-a712-9b5d1815a557.eml   \n",
       "684389  f0fff19f-e38d-4523-ba04-c5c53fb24016.eml   \n",
       "684390  f0fff369-db2b-4a42-bd62-cdc1e05f72df.eml   \n",
       "\n",
       "                                                  content  \n",
       "681573  \\n\\n--__.5DA0A.8DE57EF.F4D4CD\\nContent-Type: t...  \n",
       "681574  \\n\\n--_21B.6DA.6D\\nContent-Type: text/html;\\nC...  \n",
       "681575  \\nDQqBmYGahLSEtIFjgWSBRYSqhLSBY4FkgWSBRYFFgUWB...  \n",
       "681576  \\nPCFET0NUWVBFIGh0bWwgUFVCTElDICItLy9XM0MvL0RU...  \n",
       "681577  \\n\\n--..DF_5CB14FF.EE42\\nContent-Type: text/ht...  \n",
       "...                                                   ...  \n",
       "684386  \\n\\n--67_ED3FFA4EC0_FF.19C4BA_\\nContent-Type: ...  \n",
       "684387  \\nPCFET0NUWVBFIGh0bWwgUFVCTElDICItLy9XM0MvL0RU...  \n",
       "684388  \\n\\n--7CB2_0.3_.FCE\\nContent-Type: text/html;\\...  \n",
       "684389  \\nPCFET0NUWVBFIGh0bWwgUFVCTElDICItLy9XM0MvL0RU...  \n",
       "684390  \\n\\n--D2E19CA.F4E54C11B9\\nContent-Type: text/h...  \n",
       "\n",
       "[2818 rows x 2 columns]"
      ]
     },
     "execution_count": 18,
     "metadata": {},
     "output_type": "execute_result"
    }
   ],
   "source": [
    "content_df_f"
   ]
  },
  {
   "cell_type": "code",
   "execution_count": null,
   "metadata": {},
   "outputs": [],
   "source": [
    "content_df_f.to_csv('eml_body_f.csv', encoding='utf-8-sig')"
   ]
  }
 ],
 "metadata": {
  "kernelspec": {
   "display_name": "Python 3",
   "language": "python",
   "name": "python3"
  },
  "language_info": {
   "codemirror_mode": {
    "name": "ipython",
    "version": 3
   },
   "file_extension": ".py",
   "mimetype": "text/x-python",
   "name": "python",
   "nbconvert_exporter": "python",
   "pygments_lexer": "ipython3",
   "version": "3.7.7"
  }
 },
 "nbformat": 4,
 "nbformat_minor": 4
}
