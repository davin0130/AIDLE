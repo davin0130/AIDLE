{
 "cells": [
  {
   "cell_type": "markdown",
   "metadata": {},
   "source": [
    "### The original type was:"
   ]
  },
  {
   "cell_type": "code",
   "execution_count": 1,
   "metadata": {},
   "outputs": [],
   "source": [
    "import os\n",
    "import pandas as pd\n",
    "\n",
    "import datetime\n",
    "import eml_parser"
   ]
  },
  {
   "cell_type": "code",
   "execution_count": 2,
   "metadata": {},
   "outputs": [],
   "source": [
    "### json 형태(디렉토리(객체) 또는 리스트(배열))로된 값을 DataFrame 형태로 변환 ###\n",
    "# 디렉토리와 리스트가 아닌 string 또는 datetime 타입의 값이 나올때까지 검사\n",
    "# string 또는 datetime값이 나오면 해당 key와 value를 DataFrame으로 바꾼 후 리턴\n",
    "# 계속해서 열이 추가되도록 concat 사용\n",
    "def toDataFrame(idx, key, value, column):\n",
    "    col = column + '/' + key\n",
    "    eml_df = pd.DataFrame()\n",
    "    \n",
    "    if type(value) == type(dict()):\n",
    "        for k in value:\n",
    "            eml_df = pd.concat([eml_df, toDataFrame(idx, k, value[k], col)], axis=1)\n",
    "            \n",
    "    elif type(value) == type(list()):\n",
    "        # received의 개수를 last_num 열에 추가\n",
    "        if col == '/header/received':\n",
    "            num = len(value)\n",
    "            eml_df = pd.concat([eml_df, pd.DataFrame(data={'last_num':num}, index=[idx])], axis=1)\n",
    "\n",
    "        v = ''\n",
    "        for i, d in enumerate(value):\n",
    "            if type(d) == type(dict()):\n",
    "                eml_df = pd.concat([eml_df, toDataFrame(idx, str(i), d, col)], axis=1)\n",
    "                \n",
    "            else:   # str, email.headerregistry._ContentTypeHeader, ...\n",
    "                v += ' ' + d\n",
    "        eml_df = pd.concat([eml_df, pd.DataFrame(data={col: v}, index=[idx])], axis=1)\n",
    "    \n",
    "    else:     #str, datetime.datetime, ...\n",
    "        eml_df = pd.DataFrame(data={col: value}, index=[idx])\n",
    "        \n",
    "    return eml_df"
   ]
  },
  {
   "cell_type": "code",
   "execution_count": 3,
   "metadata": {},
   "outputs": [],
   "source": [
    "### 인자로 받은 line이 필드(필드 이름과 필드 값으로 구성된 것)인지 확인\n",
    "# 참고자료: http://cr.yp.to/immhf/field.html\n",
    "def isField(line):\n",
    "    field = line.split(':')\n",
    "    answer = True\n",
    "    # 시간 관련 열의 경우 ':' 2번 이상 등장, ex. 'Sat, 16 May 2020 07:50:25 +0500'\n",
    "    if len(field) >= 2:     \n",
    "        fieldName = field[0]\n",
    "        for word in fieldName:\n",
    "            if ord(word) < 33 or ord(word) > 126:\n",
    "                answer = False\n",
    "    else:\n",
    "        answer = False\n",
    "    \n",
    "    return answer"
   ]
  },
  {
   "cell_type": "code",
   "execution_count": 4,
   "metadata": {},
   "outputs": [],
   "source": [
    "### eml 파일의 content 부분 파싱\n",
    "# 해당 eml 파일의 header content-type 값에 따라 파싱한다.\n",
    "# header content-type 값이 multipart인 경우 boundary 값과 빈 행('\\n')을 이용해 파싱\n",
    "# header content-type 값이 multipart가 아닌 경우 빈 행('\\n')을 이용해 파싱\n",
    "def content_parsing(idx, header_content_type, file_path):\n",
    "    f = open(file_path, 'r', encoding='utf-8' )\n",
    "    contents = {}\n",
    "    if 'multipart' in header_content_type:\n",
    "        i = -1\n",
    "        isbody_content_type = False\n",
    "        iscontent = False\n",
    "        # content-type에서 boundary 파라미터 추출\n",
    "        boundary = header_content_type.split('boundary=')\n",
    "        boundary = boundary[1][1:-1]\n",
    "        \n",
    "        while True:\n",
    "            line = f.readline()\n",
    "            if not line:\n",
    "                print('not line으로 종료')\n",
    "                break\n",
    "            \n",
    "            # 각 content의 시작 부분마다 --boundary 가 존재\n",
    "            # 맨 마지막에 --boundary--로 끝남\n",
    "            if line == '--'+boundary+'\\n':\n",
    "                #isbody_content_type = True\n",
    "                iscontent = True\n",
    "                i += 1\n",
    "                contents['content_'+str(i)] = ''\n",
    "                \n",
    "            elif line == '--'+boundary+'--\\n':\n",
    "                break\n",
    "                \n",
    "#             elif isbody_content_type == True:\n",
    "#                 # (1) 빈 행 인지 검사하는 것 만으로도 충분할 것 같음\n",
    "#                 if line == '\\n':\n",
    "#                 #if '\\n' == line or not (line[0]==' ' or line[0]=='\\t' or isFiled(line)):\n",
    "\n",
    "#                     iscontent = True\n",
    "#                     isbody_content_type = False\n",
    "                \n",
    "            elif iscontent == True:\n",
    "                # 간혹 빈 행 다음에 필드 값이 들어있는 경우가 있음\n",
    "                # ex. 0b2b8c9c-1862-47a4-8747-01884c7e85.eml\n",
    "                # 메일 내용인데 단순히 필드형식과 같은 경우와 진짜 필드 값인 경우 구분해야 함 ##### 수정 필요 #####\n",
    "                # 일단 빈 행 다음에 오는 필드 값은 eml-parser에서도 헤더로 파싱 안해줌\n",
    "                #if isField(line) == True:\n",
    "                #    continue\n",
    "                contents['content_'+str(i)] += line\n",
    "    else:\n",
    "        iscontent = False\n",
    "        contents['content_0'] = ''\n",
    "        while True:\n",
    "            line = f.readline()\n",
    "            if not line:\n",
    "                break\n",
    "            ###########\n",
    "            # http://cr.yp.to/immhf/header.html\n",
    "            # 헤더와 content를 구분하는 기준\n",
    "            # 헤더 행이 될 수없는 첫 번째 행에서 헤더 읽기를 중지하십시오. \n",
    "            # (1) 빈 행 또는 (2) 공백, 탭 또는 필드 이름 과 콜론으로 시작하지 않는 행 . \n",
    "            # 이 전략을 권장합니다. 822 호환 메시지와 거의 모든 깨진 메시지를 올바르게 처리합니다.\n",
    "            ###########\n",
    "            # (1) 빈 행 인지 검사하는 것 만으로도 충분할 것 같음\n",
    "            #if '\\n' == line:\n",
    "            if '\\n' == line or (line[0]!=' ' and line[0] !='\\t' and isField(line)==False):\n",
    "                iscontent = True\n",
    "            if iscontent == True:\n",
    "                contents['content_0'] += line\n",
    "                \n",
    "    return pd.DataFrame(data=contents, index=[idx])"
   ]
  },
  {
   "cell_type": "code",
   "execution_count": 10,
   "metadata": {},
   "outputs": [],
   "source": [
    "### 인자로 받은 디렉토리(folder)에 있는 파일들 중 선택된 파일들에 대해 파싱한 후 DataFrame으로 저장 ###\n",
    "def parsing(folder, hex_str):\n",
    "    file_list = os.listdir(folder)\n",
    "    \n",
    "    emls_df = pd.DataFrame()    \n",
    "    count = 0\n",
    "    \n",
    "    for i, file in enumerate(file_list):\n",
    "        # 원하는 파일이 아니면 제외(원하는 파일 선택)\n",
    "        # 생각보다 오래걸릴 수 있어서 file[0:2] == '01' 과 같이 더 나눠서 반복해서 실행시키는 것 추천\n",
    "        if not (file[0:2] == hex_str):  # 각자 시작하는 16진수 선택\n",
    "            continue\n",
    "        \n",
    "        if count%1000 == 0:     # 진행 상태 확인(100개 단위로 file 이름 print)\n",
    "            print('file name:', file)\n",
    "        count += 1\n",
    "        \n",
    "        #### eml-parsing ####\n",
    "        # eml-parsing을 이용해서 eml 파일의 header와 body(html(X)) 부분을 파싱 (메일 header & body 파싱)\n",
    "        file_path = os.path.join(folder, file)\n",
    "        with open(file_path, 'rb') as fhdl:\n",
    "            raw_email = fhdl.read()\n",
    "\n",
    "        ep = eml_parser.EmlParser()\n",
    "        # error가 발생해도 나머지 파일들에 대한 파싱값 저장하기 위해 try-except 사용\n",
    "        try:\n",
    "            parsed_eml = ep.decode_email_bytes(raw_email)   # 파싱한 결과가 담긴 변수(parsed_eml), 디렉토리 형태\n",
    "        except Exception as e:    # 모든 예외의 에러 메시지를 출력할 때는 Exception을 사용\n",
    "            print('=== Exception:', e, '(during eml_parser) ===')\n",
    "            print('error file:', file)\n",
    "    \n",
    "        #### to DataFrame ####\n",
    "        # parsed_eml에 들어있는 파싱된 정보들을 pandas dataframe으로 저장하기\n",
    "        # toDataFrame 함수 이용\n",
    "        eml_df = pd.DataFrame(data={'file_name':file}, index=[i])\n",
    "        if type(parsed_eml['body']) != type(list()):\n",
    "            print('body type ', type(parsed_eml['body']))\n",
    "        else:\n",
    "            eml_df = pd.concat([eml_df, toDataFrame(i, 'body', parsed_eml['body'], '')], axis=1)\n",
    "            \n",
    "        if type(parsed_eml['header']) != type(dict()):\n",
    "            print('header type: ', type(parsed_eml['header']))\n",
    "        else:\n",
    "            # 이전의 eml_df와 병합, eml_df에 header와 관련된 열들 추가\n",
    "            eml_df = pd.concat([eml_df, toDataFrame(i, 'header', parsed_eml['header'], '')], axis=1)\n",
    "\n",
    "        \n",
    "        #### content-parsing ####\n",
    "        # eml 파일의 content 부분을 파싱하여 DataFrame 'content_n'열에 저장(하나의 파일에 content 여러개 있을 수 있음)\n",
    "        # content-parsing 함수 이용\n",
    "        # 이전의 eml_df와 병합, eml_df에 'html'열 추가\n",
    "        if '/header/header/content-type' in eml_df.columns:\n",
    "            eml_df = pd.concat([eml_df, content_parsing(i, eml_df.loc[i,'/header/header/content-type'], file_path)], axis=1)\n",
    "        else:\n",
    "            print(file, '/header/header/content-type 열이 없음')\n",
    "            \n",
    "        # error가 발생해도 나머지 파일들에 대한 파싱값 저장하기 위해 try-except 사용\n",
    "        try:\n",
    "            emls_df = pd.concat([emls_df, eml_df])  \n",
    "        except ValueError as e:\n",
    "            # 하나의 dataframe에 중복된 열이름이 있을 경우 concat할 때 error 발생\n",
    "            # 열이름 확인을 위해 eml_df의 열 print\n",
    "            print('=== ValueError:', e, '(during concat) ===') # error 문구, 마음대로 변경 가능, e변수에 error 내용 저장\n",
    "            print('error file name:', file)\n",
    "            print(parsed_eml)\n",
    "            for c in eml_df.columns:\n",
    "                print(c)\n",
    "            print()\n",
    "        except AssertionError as e:\n",
    "            print('=== AssertionError:', e, '(during concat) ===') # error 문구, 마음대로 변경 가능, e변수에 error 내용 저장\n",
    "            print('error file name:', file)\n",
    "            \n",
    "    return emls_df"
   ]
  },
  {
   "cell_type": "code",
   "execution_count": 11,
   "metadata": {},
   "outputs": [
    {
     "name": "stdout",
     "output_type": "stream",
     "text": [
      "file name: a0000ad3-3efa-4ef2-9f67-d95337fbaf1c.eml\n",
      "a00ac192-a76f-4d91-8602-8909cb4114e0.eml /header/header/content-type 열이 없음\n",
      "a00ce93a-3426-4fe2-bdb8-d808d896e226.eml /header/header/content-type 열이 없음\n",
      "a02ca26d-ef00-404f-a1ac-f407491b04be.eml /header/header/content-type 열이 없음\n",
      "a03095a9-c9c0-4e58-9254-5ee5cc531996.eml /header/header/content-type 열이 없음\n",
      "not line으로 종료\n",
      "a0511c94-a3b0-436b-bfd1-e7f91e9b4e4f.eml /header/header/content-type 열이 없음\n",
      "a0545118-3ab3-4738-89bb-6add565dfd3c.eml /header/header/content-type 열이 없음\n",
      "file name: a0545a27-4cab-46aa-86b7-c61de054cf50.eml\n",
      "a06ffbdb-e792-4614-89f5-089f1b81a893.eml /header/header/content-type 열이 없음\n",
      "file name: a0aa39dd-1212-40ce-8db2-4e1e60918935.eml\n",
      "a0aad757-0486-487e-bf26-5d74f33f2a85.eml /header/header/content-type 열이 없음\n",
      "a0c1f846-18c8-4c33-ab1b-090d2ab76816.eml /header/header/content-type 열이 없음\n",
      "a0d0b5d5-f688-46a4-8c7b-5c73de971cff.eml /header/header/content-type 열이 없음\n",
      "a0d760fe-f31d-4d33-9e96-cd3325529f63.eml /header/header/content-type 열이 없음\n",
      "a0dbbb0c-c540-4223-9aef-2671fb3e0b24.eml /header/header/content-type 열이 없음\n"
     ]
    }
   ],
   "source": [
    "content_df_a0 = parsing('dataset/eml', 'a0')"
   ]
  },
  {
   "cell_type": "code",
   "execution_count": 12,
   "metadata": {},
   "outputs": [
    {
     "name": "stdout",
     "output_type": "stream",
     "text": [
      "file name: a10020c6-f0a8-4857-9fa2-30c3ecaefdb7.eml\n",
      "a10b3265-043a-4c40-bc5d-2b3ceca54a7a.eml /header/header/content-type 열이 없음\n",
      "a122fe24-c623-4311-973e-c0f2fed1329f.eml /header/header/content-type 열이 없음\n",
      "a1343b62-7851-468a-8ed6-8abadf9030db.eml /header/header/content-type 열이 없음\n",
      "a13879a5-09bc-4207-81a3-a927326d2444.eml /header/header/content-type 열이 없음\n",
      "a15190d0-e7d8-43b0-a58b-af28f9fe78d0.eml /header/header/content-type 열이 없음\n",
      "file name: a157aa16-7817-45d6-adf4-3ffd707ec5e9.eml\n",
      "a16144b7-225f-4967-b401-6ef7432e0d8e.eml /header/header/content-type 열이 없음\n",
      "a1775a07-75b2-4731-b12d-f3c6108a3c59.eml /header/header/content-type 열이 없음\n",
      "a178fe05-3a92-4632-888d-df0ae2e0f157.eml /header/header/content-type 열이 없음\n",
      "a1aad003-1cd3-483e-882d-68d6eba28736.eml /header/header/content-type 열이 없음\n",
      "file name: a1b3f25a-4bb5-444b-adff-eac592e89185.eml\n",
      "a1bc2a4d-7d41-42ec-977c-ed407ad8a9bb.eml /header/header/content-type 열이 없음\n"
     ]
    }
   ],
   "source": [
    "content_df_a1 = parsing('dataset/eml', 'a1')"
   ]
  },
  {
   "cell_type": "code",
   "execution_count": null,
   "metadata": {},
   "outputs": [],
   "source": [
    "content_df_a2 = parsing('dataset/eml', 'a2')"
   ]
  },
  {
   "cell_type": "code",
   "execution_count": null,
   "metadata": {},
   "outputs": [],
   "source": [
    "content_df_a3 = parsing('dataset/eml', 'a3')"
   ]
  },
  {
   "cell_type": "code",
   "execution_count": null,
   "metadata": {},
   "outputs": [],
   "source": [
    "content_df_a4 = parsing('dataset/eml', 'a4')"
   ]
  },
  {
   "cell_type": "code",
   "execution_count": null,
   "metadata": {},
   "outputs": [],
   "source": [
    "content_df_a5 = parsing('dataset/eml', 'a5')"
   ]
  },
  {
   "cell_type": "code",
   "execution_count": null,
   "metadata": {},
   "outputs": [],
   "source": [
    "content_df_a6 = parsing('dataset/eml', 'a6')"
   ]
  },
  {
   "cell_type": "code",
   "execution_count": null,
   "metadata": {},
   "outputs": [],
   "source": [
    "content_df_a7 = parsing('dataset/eml', 'a7')"
   ]
  },
  {
   "cell_type": "code",
   "execution_count": null,
   "metadata": {},
   "outputs": [],
   "source": [
    "content_df_a8 = parsing('dataset/eml', 'a8')"
   ]
  },
  {
   "cell_type": "code",
   "execution_count": null,
   "metadata": {},
   "outputs": [],
   "source": [
    "content_df_a9 = parsing('dataset/eml', 'a9')"
   ]
  },
  {
   "cell_type": "code",
   "execution_count": null,
   "metadata": {},
   "outputs": [],
   "source": [
    "content_df_aa = parsing('dataset/eml', 'aa')"
   ]
  },
  {
   "cell_type": "code",
   "execution_count": null,
   "metadata": {},
   "outputs": [],
   "source": [
    "content_df_ab = parsing('dataset/eml', 'ab')"
   ]
  },
  {
   "cell_type": "code",
   "execution_count": null,
   "metadata": {},
   "outputs": [],
   "source": [
    "content_df_ac = parsing('dataset/eml', 'ac')"
   ]
  },
  {
   "cell_type": "code",
   "execution_count": null,
   "metadata": {},
   "outputs": [],
   "source": [
    "content_df_ad = parsing('dataset/eml', 'ad')"
   ]
  },
  {
   "cell_type": "code",
   "execution_count": null,
   "metadata": {},
   "outputs": [],
   "source": [
    "content_df_ae = parsing('dataset/eml', 'ae')"
   ]
  },
  {
   "cell_type": "code",
   "execution_count": null,
   "metadata": {},
   "outputs": [],
   "source": [
    "content_df_af = parsing('dataset/eml', 'af')"
   ]
  },
  {
   "cell_type": "code",
   "execution_count": null,
   "metadata": {},
   "outputs": [],
   "source": [
    "content_df_2 = parsing('dataset/eml', '2')"
   ]
  },
  {
   "cell_type": "code",
   "execution_count": null,
   "metadata": {},
   "outputs": [],
   "source": [
    "content_df_f = parsing('dataset/eml', 'f')"
   ]
  },
  {
   "cell_type": "code",
   "execution_count": null,
   "metadata": {},
   "outputs": [],
   "source": [
    "content_df_3 = parsing('dataset/eml', '3')"
   ]
  },
  {
   "cell_type": "code",
   "execution_count": null,
   "metadata": {},
   "outputs": [],
   "source": [
    "content_df_b = parsing('dataset/eml', 'b')"
   ]
  },
  {
   "cell_type": "code",
   "execution_count": null,
   "metadata": {},
   "outputs": [],
   "source": [
    "content_df_0 = parsing('dataset/eml', '0')"
   ]
  },
  {
   "cell_type": "code",
   "execution_count": null,
   "metadata": {},
   "outputs": [],
   "source": [
    "content_df_1 = parsing('dataset/eml', '1')"
   ]
  },
  {
   "cell_type": "code",
   "execution_count": 11,
   "metadata": {},
   "outputs": [
    {
     "name": "stdout",
     "output_type": "stream",
     "text": [
      "45265    Content-Type: text/html;\\nContent-Transfer-Enc...\n",
      "45266    \\nnŔ閧̂肪TB\\nӂꏗGETŐVSNS\\n\\nhttp://wr85tgv.work/b...\n",
      "45267    \\nPCFET0NUWVBFIGh0bWwgUFVCTElDICItLy9XM0MvL0RU...\n",
      "45268    Content-Type: text/html;\\nContent-Transfer-Enc...\n",
      "45269    Content-Type: text/html;\\nContent-Transfer-Enc...\n",
      "                               ...                        \n",
      "48034    \\nDQqEqoSqhKqEqoSqhKqEqoSqhKqEqoSqhKqEqoSqhKqE...\n",
      "48035    Content-Type: text/html;\\nContent-Transfer-Enc...\n",
      "48036    Content-Type: text/html;\\nContent-Transfer-Enc...\n",
      "48037    Content-Type: text/html;\\nContent-Transfer-Enc...\n",
      "48038    Content-Type: text/html;\\nContent-Transfer-Enc...\n",
      "Name: content_0, Length: 2774, dtype: object\n",
      "45265    NaN\n",
      "45266    NaN\n",
      "45267    NaN\n",
      "45268    NaN\n",
      "45269    NaN\n",
      "        ... \n",
      "48034    NaN\n",
      "48035    NaN\n",
      "48036    NaN\n",
      "48037    NaN\n",
      "48038    NaN\n",
      "Name: content_1, Length: 2774, dtype: object\n"
     ]
    }
   ],
   "source": [
    "n=2\n",
    "for i in range(n):\n",
    "    print(eml_df['content_'+str(i)])"
   ]
  },
  {
   "cell_type": "code",
   "execution_count": 12,
   "metadata": {},
   "outputs": [
    {
     "data": {
      "text/html": [
       "<div>\n",
       "<style scoped>\n",
       "    .dataframe tbody tr th:only-of-type {\n",
       "        vertical-align: middle;\n",
       "    }\n",
       "\n",
       "    .dataframe tbody tr th {\n",
       "        vertical-align: top;\n",
       "    }\n",
       "\n",
       "    .dataframe thead th {\n",
       "        text-align: right;\n",
       "    }\n",
       "</style>\n",
       "<table border=\"1\" class=\"dataframe\">\n",
       "  <thead>\n",
       "    <tr style=\"text-align: right;\">\n",
       "      <th></th>\n",
       "      <th>file_name</th>\n",
       "      <th>/body/0/uri_hash</th>\n",
       "      <th>/body/0/domain_hash</th>\n",
       "      <th>/body/0/content_header/content-type</th>\n",
       "      <th>/body/0/content_header/content-transfer-encoding</th>\n",
       "      <th>/body/0/content_type</th>\n",
       "      <th>/body/0/hash</th>\n",
       "      <th>/body</th>\n",
       "      <th>/header/subject</th>\n",
       "      <th>/header/from</th>\n",
       "      <th>...</th>\n",
       "      <th>/header/header/x-source-args</th>\n",
       "      <th>/header/header/x-source-dir</th>\n",
       "      <th>/header/header/tracking-did</th>\n",
       "      <th>/header/header/msg-id</th>\n",
       "      <th>/header/header/customer-uid</th>\n",
       "      <th>/header/header/campaign-uid</th>\n",
       "      <th>/header/header/add-id</th>\n",
       "      <th>/header/header/subscriber-uid</th>\n",
       "      <th>/header/header/customer-gid</th>\n",
       "      <th>/header/header/delivery-sid</th>\n",
       "    </tr>\n",
       "  </thead>\n",
       "  <tbody>\n",
       "    <tr>\n",
       "      <th>45494</th>\n",
       "      <td>1016315a-8ef8-493a-adcb-b08ed280601f.eml</td>\n",
       "      <td>NaN</td>\n",
       "      <td>NaN</td>\n",
       "      <td>NaN</td>\n",
       "      <td>NaN</td>\n",
       "      <td>NaN</td>\n",
       "      <td>e3b0c44298fc1c149afbf4c8996fb92427ae41e4649b93...</td>\n",
       "      <td></td>\n",
       "      <td></td>\n",
       "      <td>janisaobronchitis1@pdx.ne.jp</td>\n",
       "      <td>...</td>\n",
       "      <td>NaN</td>\n",
       "      <td>NaN</td>\n",
       "      <td>NaN</td>\n",
       "      <td>NaN</td>\n",
       "      <td>NaN</td>\n",
       "      <td>NaN</td>\n",
       "      <td>NaN</td>\n",
       "      <td>NaN</td>\n",
       "      <td>NaN</td>\n",
       "      <td>NaN</td>\n",
       "    </tr>\n",
       "  </tbody>\n",
       "</table>\n",
       "<p>1 rows × 263 columns</p>\n",
       "</div>"
      ],
      "text/plain": [
       "                                      file_name /body/0/uri_hash  \\\n",
       "45494  1016315a-8ef8-493a-adcb-b08ed280601f.eml              NaN   \n",
       "\n",
       "      /body/0/domain_hash /body/0/content_header/content-type  \\\n",
       "45494                 NaN                                 NaN   \n",
       "\n",
       "      /body/0/content_header/content-transfer-encoding /body/0/content_type  \\\n",
       "45494                                              NaN                  NaN   \n",
       "\n",
       "                                            /body/0/hash /body  \\\n",
       "45494  e3b0c44298fc1c149afbf4c8996fb92427ae41e4649b93...         \n",
       "\n",
       "      /header/subject                  /header/from  ...  \\\n",
       "45494                  janisaobronchitis1@pdx.ne.jp  ...   \n",
       "\n",
       "      /header/header/x-source-args /header/header/x-source-dir  \\\n",
       "45494                          NaN                         NaN   \n",
       "\n",
       "       /header/header/tracking-did /header/header/msg-id  \\\n",
       "45494                          NaN                   NaN   \n",
       "\n",
       "      /header/header/customer-uid /header/header/campaign-uid  \\\n",
       "45494                         NaN                         NaN   \n",
       "\n",
       "      /header/header/add-id /header/header/subscriber-uid  \\\n",
       "45494                   NaN                           NaN   \n",
       "\n",
       "      /header/header/customer-gid /header/header/delivery-sid  \n",
       "45494                         NaN                         NaN  \n",
       "\n",
       "[1 rows x 263 columns]"
      ]
     },
     "execution_count": 12,
     "metadata": {},
     "output_type": "execute_result"
    }
   ],
   "source": [
    "eml_df[eml_df['file_name']=='1016315a-8ef8-493a-adcb-b08ed280601f.eml']"
   ]
  },
  {
   "cell_type": "code",
   "execution_count": null,
   "metadata": {},
   "outputs": [],
   "source": [
    "contents=eml_df['content_0']\n",
    "for index, value in contents.items():\n",
    "    if '' in str(value):\n",
    "        print(value)"
   ]
  },
  {
   "cell_type": "code",
   "execution_count": 14,
   "metadata": {},
   "outputs": [],
   "source": [
    "#df[df['ids'].str.contains(\"ball\")]\n",
    "pd.set_option('display.max_row', 500)\n",
    "check_not_origin = eml_df['content_0'].str.contains(\"The original type was:\", na=False)\n",
    "\n",
    "eml_df[check_not_origin].to_csv('./check_not_origin.csv')"
   ]
  },
  {
   "cell_type": "code",
   "execution_count": 15,
   "metadata": {},
   "outputs": [],
   "source": [
    "eml_df['content_0'].to_csv('./content')"
   ]
  },
  {
   "cell_type": "code",
   "execution_count": 16,
   "metadata": {},
   "outputs": [
    {
     "data": {
      "text/plain": [
       "2774"
      ]
     },
     "execution_count": 16,
     "metadata": {},
     "output_type": "execute_result"
    }
   ],
   "source": [
    "len(eml_df)"
   ]
  },
  {
   "cell_type": "code",
   "execution_count": null,
   "metadata": {},
   "outputs": [],
   "source": [
    "eml_df['/header/date'].str.contains(\"05:30\")"
   ]
  }
 ],
 "metadata": {
  "kernelspec": {
   "display_name": "Python 3",
   "language": "python",
   "name": "python3"
  },
  "language_info": {
   "codemirror_mode": {
    "name": "ipython",
    "version": 3
   },
   "file_extension": ".py",
   "mimetype": "text/x-python",
   "name": "python",
   "nbconvert_exporter": "python",
   "pygments_lexer": "ipython3",
   "version": "3.7.7"
  }
 },
 "nbformat": 4,
 "nbformat_minor": 4
}
